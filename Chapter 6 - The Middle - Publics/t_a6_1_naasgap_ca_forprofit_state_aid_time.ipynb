{
 "cells": [
  {
   "cell_type": "markdown",
   "metadata": {},
   "source": [
    "## *Bankers in the Ivory Tower*\n",
    "### By Charlie Eaton\n",
    "\n",
    "### Chapter 6 Appendix Table A6.1: California Cal Grant Spending on For-Profit Colleges"
   ]
  },
  {
   "cell_type": "code",
   "execution_count": 1,
   "metadata": {},
   "outputs": [
    {
     "name": "stdout",
     "output_type": "stream",
     "text": [
      "> \n",
      "(encoding automatically selected: ISO-8859-1)\n",
      "(35 vars, 9,910 obs)\n"
     ]
    }
   ],
   "source": [
    "import delimited using data/d6_a1_naasgap_forprofit_state_aid_time.csv, clear"
   ]
  },
  {
   "cell_type": "code",
   "execution_count": 2,
   "metadata": {},
   "outputs": [
    {
     "name": "stdout",
     "output_type": "stream",
     "text": [
      "statename                         recipientsinunder2yearinstatepri\n",
      "surveyyear                        dollarsawardedto2yearinstatepriv\n",
      "programname                       recipientsin2yearinstateprivatei\n",
      "definitionofneed                  dollarsawardedto4yearinstatepriv\n",
      "testscoremeritcomponent           recipientsin4yearinstateprivatei\n",
      "performancemeritcomponent         dollarsawardedtooutofstateprivat\n",
      "classrankmeritcomponent           recipientsinoutofstateprivateins\n",
      "gradesmeritcomponent              v26\n",
      "minimumgradeformeritcomponent     recipientsinunder2yearinstatepro\n",
      "dollarsawardedtounder2yearinstat  dollarsawardedto2yearinstateprop\n",
      "recipientsinunder2yearinstatepub  recipientsin2yearinstatepropriet\n",
      "dollarsawardedto2yearinstatepubl  dollarsawardedto4yearinstateprop\n",
      "recipientsin2yearinstatepublicin  recipientsin4yearinstatepropriet\n",
      "dollarsawardedto4yearinstatepubl  dollarsawardedtooutofstatepropri\n",
      "recipientsin4yearinstatepublicin  recipientsinoutofstateproprietar\n",
      "dollarsawardedtooutofstatepublic  totaldollarsawarded\n",
      "recipientsinoutofstatepublicinst  totalnumberofrecipients\n",
      "v18\n"
     ]
    }
   ],
   "source": [
    "ds, varwidth(32)"
   ]
  },
  {
   "cell_type": "code",
   "execution_count": 3,
   "metadata": {},
   "outputs": [],
   "source": [
    "egen fpaid=rowtotal(dollarsawardedto2yearinstateprop dollarsawardedto4yearinstateprop dollarsawardedtooutofstatepropri)"
   ]
  },
  {
   "cell_type": "code",
   "execution_count": 4,
   "metadata": {},
   "outputs": [
    {
     "name": "stdout",
     "output_type": "stream",
     "text": [
      "\n",
      "--------------------------\n",
      "            |        Total\n",
      "------------+-------------\n",
      "Survey Year |             \n",
      "  2003      |   48,969,000\n",
      "  2004      |   62,309,600\n",
      "  2005      |   63,556,000\n",
      "  2006      |   70,629,000\n",
      "  2007      |   81,347,000\n",
      "  2008      |   85,345,765\n",
      "  2009      |   85,423,000\n",
      "  2010      |   93,499,000\n",
      "  2011      |  116,001,944\n",
      "  2012      |  107,604,433\n",
      "  2013      |   53,757,972\n",
      "  2014      |   39,664,287\n",
      "  2015      |   29,713,236\n",
      "  2016      |   17,363,000\n",
      "  2017      |   23,470,817\n",
      "  2018      |   23,898,205\n",
      "--------------------------\n"
     ]
    }
   ],
   "source": [
    "table surveyyear if statename==\"California\", stat(sum fpaid) nototal"
   ]
  },
  {
   "cell_type": "code",
   "execution_count": null,
   "metadata": {},
   "outputs": [],
   "source": []
  }
 ],
 "metadata": {
  "kernelspec": {
   "display_name": "Stata",
   "language": "stata",
   "name": "stata"
  },
  "language_info": {
   "codemirror_mode": "stata",
   "file_extension": ".do",
   "mimetype": "text/x-stata",
   "name": "stata",
   "version": "15.1"
  }
 },
 "nbformat": 4,
 "nbformat_minor": 4
}

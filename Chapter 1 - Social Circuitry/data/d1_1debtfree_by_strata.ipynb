{
 "cells": [
  {
   "cell_type": "markdown",
   "id": "32a9acc1-4bc8-48e9-ad1f-da6c7458dc59",
   "metadata": {},
   "source": [
    "## Replication for *Bankers in the Ivory Tower*, January 4, 2021\n",
    "### By Charlie Eaton\n",
    "\n",
    "### Data Sourcing and Construction for Figure 1.1: Percentage frosh with zero student debt by higher education strata"
   ]
  },
  {
   "cell_type": "code",
   "execution_count": 4,
   "id": "0df36b0b-0988-484f-a5b7-282bf554e431",
   "metadata": {},
   "outputs": [],
   "source": [
    "forvalues year=2002/2020 {\n",
    "qui copy https://nces.ed.gov/ipeds/datacenter/data/HD`year'_Data_Stata.zip HD`year'_Data_Stata.zip, replace\n",
    "    }"
   ]
  },
  {
   "cell_type": "code",
   "execution_count": 5,
   "id": "24fcf9f0-02d1-4901-8cbf-483138c764a7",
   "metadata": {},
   "outputs": [],
   "source": [
    "    foreach year in IC99_ FA2000 FA2001 {\n",
    "qui copy https://nces.ed.gov/ipeds/datacenter/data/`year'HD_Data_Stata.zip `year'HD_Data_Stata.zip, replace\n",
    "    }"
   ]
  },
  {
   "cell_type": "code",
   "execution_count": 6,
   "id": "289aaf11-9335-4b32-832d-5491fc4408c9",
   "metadata": {},
   "outputs": [],
   "source": [
    "forvalues year = 1/19 {\n",
    "    local years = string(`year', \"%02.0f\")\n",
    "    local next = string(`year'+1, \"%02.0f\")\n",
    "qui copy \"https://nces.ed.gov/ipeds/datacenter/data/SFA`years'`next'_Data_Stata.zip\" ///\n",
    "    \"SFA`years'`next'_Data_Stata.zip\", replace\n",
    "}"
   ]
  },
  {
   "cell_type": "code",
   "execution_count": 7,
   "id": "33df7d99-2b65-4e9d-a6f4-9289c5669f7a",
   "metadata": {},
   "outputs": [],
   "source": [
    "qui copy \"https://nces.ed.gov/ipeds/datacenter/data/SFA9900S_Data_Stata.zip\" ///\n",
    "    \"SFA9900'_Data_Stata.zip\", replace\n",
    "\n",
    "qui copy \"https://nces.ed.gov/ipeds/datacenter/data/SFA0001S_Data_Stata.zip\" ///\n",
    "    \"SFA0001_Data_Stata.zip\", replace"
   ]
  },
  {
   "cell_type": "code",
   "execution_count": 8,
   "id": "464b36b1-40ee-4539-b20e-b801ff30b00a",
   "metadata": {},
   "outputs": [],
   "source": [
    "clear\n",
    "qui gen year=.\n",
    "qui save hdcontroliclevel_2000_2020, replace\n",
    "forvalues year=2002/2020 {\n",
    "    qui unzipfile HD`year'_Data_Stata, replace\n",
    "    qui insheet using hd`year'_data_stata.csv, clear\n",
    "    qui keep unitid iclevel control\n",
    "    qui gen year=`year'\n",
    "    qui append using hdcontroliclevel_2000_2020\n",
    "    qui save hdcontroliclevel_2000_2020, replace\n",
    "    qui rm hd`year'_data_stata.csv\n",
    "    }\n",
    "forvalues year= 2000/2001 {\n",
    "        qui unzipfile FA`year'HD_Data_Stata, replace\n",
    "    qui insheet using fa`year'hd_data_stata.csv, clear\n",
    "    qui keep unitid iclevel control\n",
    "    qui gen year=`year'\n",
    "    qui append using hdcontroliclevel_2000_2020\n",
    "    qui save hdcontroliclevel_2000_2020, replace\n",
    "    qui rm fa`year'hd_data_stata.csv\n",
    "}"
   ]
  },
  {
   "cell_type": "code",
   "execution_count": 10,
   "id": "40da887c-5840-4bad-9cf7-0835bf61cdf8",
   "metadata": {},
   "outputs": [],
   "source": [
    "forvalues year = 1/18 {\n",
    "    local years = string(`year', \"%02.0f\")\n",
    "    local next = string(`year'+1, \"%02.0f\")\n",
    "qui copy \"https://nces.ed.gov/ipeds/datacenter/data/SFA`years'`next'_Data_Stata.zip\" ///\n",
    "    \"SFA`years'`next'_Data_Stata.zip\", replace\n",
    "}"
   ]
  },
  {
   "cell_type": "code",
   "execution_count": 11,
   "id": "172342e0-d75e-4d51-906d-a449bf8d8508",
   "metadata": {},
   "outputs": [],
   "source": [
    "qui clear\n",
    "qui gen year=.\n",
    "qui save sfa_loan_p_2000_2020, replace\n",
    "\n",
    "forvalues year = 3/18 {\n",
    "    qui local years = string(`year', \"%02.0f\")\n",
    "    qui local next = string(`year'+1, \"%02.0f\")\n",
    "    qui unzipfile SFA`years'`next'_Data_Stata.zip, replace\n",
    "    quietly import delimited SFA`years'`next'_rv_data_stata.csv, clear\n",
    "    qui keep unitid loan_p loan_n\n",
    "    qui gen year=2000+`year'+1\n",
    "    qui append using sfa_loan_p_2000_2020\n",
    "    qui save sfa_loan_p_2000_2020, replace\n",
    "    qui rm SFA`years'`next'_rv_data_stata.csv\n",
    "    qui rm SFA`years'`next'_data_stata.csv\n",
    "}\n",
    "\n",
    "foreach year in 1 2 19 {\n",
    "    qui local years = string(`year', \"%02.0f\")\n",
    "    qui local next = string(`year'+1, \"%02.0f\")\n",
    "    qui unzipfile SFA`years'`next'_Data_Stata.zip, replace\n",
    "    quietly import delimited SFA`years'`next'_data_stata.csv, clear\n",
    "    qui keep unitid loan_p loan_n \n",
    "    qui gen year=2000+`year'+1\n",
    "    qui append using sfa_loan_p_2000_2020\n",
    "    qui save sfa_loan_p_2000_2020, replace\n",
    "    qui rm SFA`years'`next'_data_stata.csv\n",
    "}\n",
    "\n",
    "    qui unzipfile SFA0001S_data_stata.zip, replace\n",
    "    quietly import delimited SFA0001S_data_stata.csv, clear\n",
    "    qui keep unitid loan_p loan_n \n",
    "    qui gen year=2001\n",
    "    qui append using sfa_loan_p_2000_2020\n",
    "    qui save sfa_loan_p_2000_2020, replace\n",
    "    qui rm SFA0001s_data_stata.csv\n",
    "    \n",
    "    qui unzipfile SFA9900S_data_stata.zip, replace\n",
    "    quietly import delimited SFA9900S_data_stata.csv, clear\n",
    "    qui keep unitid loan_p loan_n \n",
    "    qui gen year=2000\n",
    "    qui append using sfa_loan_p_2000_2020\n",
    "    qui save sfa_loan_p_2000_2020, replace\n",
    "    qui rm SFA9900S_data_stata.csv"
   ]
  },
  {
   "cell_type": "code",
   "execution_count": 12,
   "id": "0d86f357-c637-49a5-a0ed-f4f70c60f235",
   "metadata": {},
   "outputs": [
    {
     "name": "stdout",
     "output_type": "stream",
     "text": [
      "\n",
      "    Result                      Number of obs\n",
      "    -----------------------------------------\n",
      "    Not matched                             0\n",
      "    Matched                           133,642  \n",
      "    -----------------------------------------\n"
     ]
    }
   ],
   "source": [
    "merge 1:1 unitid year using hdcontroliclevel_2000_2020, keep(1 3) nogen"
   ]
  },
  {
   "cell_type": "code",
   "execution_count": 13,
   "id": "650b70dd-0bc4-4358-9752-0af36559ce10",
   "metadata": {},
   "outputs": [],
   "source": [
    "qui {\n",
    "    gen top30private=.\n",
    "replace top30private=1 if unitid== \t110404\n",
    "replace top30private=1 if unitid== \t123961\n",
    "replace top30private=1 if unitid== \t130794\n",
    "replace top30private=1 if unitid== \t131496\n",
    "replace top30private=1 if unitid== \t139658\n",
    "replace top30private=1 if unitid== \t144050\n",
    "replace top30private=1 if unitid== \t147767\n",
    "replace top30private=1 if unitid== \t152080\n",
    "replace top30private=1 if unitid== \t162928\n",
    "replace top30private=1 if unitid== \t164988\n",
    "replace top30private=1 if unitid== \t165015\n",
    "replace top30private=1 if unitid== \t166027\n",
    "replace top30private=1 if unitid== \t166683\n",
    "replace top30private=1 if unitid== \t167358\n",
    "replace top30private=1 if unitid== \t168148\n",
    "replace top30private=1 if unitid== \t179867\n",
    "replace top30private=1 if unitid== \t182670\n",
    "replace top30private=1 if unitid== \t186131\n",
    "replace top30private=1 if unitid== \t190150\n",
    "replace top30private=1 if unitid== \t190415\n",
    "replace top30private=1 if unitid== \t193900\n",
    "replace top30private=1 if unitid== \t195030\n",
    "replace top30private=1 if unitid== \t198419\n",
    "replace top30private=1 if unitid== \t201645\n",
    "replace top30private=1 if unitid== \t211440\n",
    "replace top30private=1 if unitid== \t215062\n",
    "replace top30private=1 if unitid== \t217156\n",
    "replace top30private=1 if unitid== \t221999\n",
    "replace top30private=1 if unitid== \t227757\n",
    "replace top30private=1 if unitid== \t243744\n",
    "    \n",
    "gen top30publice=.\n",
    "replace top30public=1 if unitid== \t104179\n",
    "replace top30public=1 if unitid== \t110635\n",
    "replace top30public=1 if unitid== \t126614\n",
    "replace top30public=1 if unitid== \t130943\n",
    "replace top30public=1 if unitid== \t134097\n",
    "replace top30public=1 if unitid== \t134130\n",
    "replace top30public=1 if unitid== \t137351\n",
    "replace top30public=1 if unitid== \t139959\n",
    "replace top30public=1 if unitid== \t141574\n",
    "replace top30public=1 if unitid== \t145637\n",
    "replace top30public=1 if unitid== \t151351\n",
    "replace top30public=1 if unitid== \t153658\n",
    "replace top30public=1 if unitid== \t163286\n",
    "replace top30public=1 if unitid== \t166629\n",
    "replace top30public=1 if unitid== \t170976\n",
    "replace top30public=1 if unitid== \t171100\n",
    "replace top30public=1 if unitid== \t174066\n",
    "replace top30public=1 if unitid== \t186380\n",
    "replace top30public=1 if unitid== \t196097\n",
    "replace top30public=1 if unitid== \t199120\n",
    "replace top30public=1 if unitid== \t201885\n",
    "replace top30public=1 if unitid== \t204796\n",
    "replace top30public=1 if unitid== \t214777\n",
    "replace top30public=1 if unitid== \t228723\n",
    "replace top30public=1 if unitid== \t228778\n",
    "replace top30public=1 if unitid== \t230764\n",
    "replace top30public=1 if unitid== \t234076\n",
    "replace top30public=1 if unitid== \t236948\n",
    "replace top30public=1 if unitid== \t240444\n",
    "replace top30public=1 if unitid== \t243780\n",
    "}"
   ]
  },
  {
   "cell_type": "code",
   "execution_count": 14,
   "id": "8c4d11ca-fcff-4594-a1f0-124dba5b3216",
   "metadata": {},
   "outputs": [
    {
     "name": "stdout",
     "output_type": "stream",
     "text": [
      "\n",
      "file f1_1bankers.dta saved\n",
      "\n",
      "\n",
      "\n",
      "Contains data from f1_1bankers.dta\n",
      " Observations:       133,642                  \n",
      "    Variables:             8                  9 Feb 2022 09:51\n",
      "         Size:     3,073,766                  \n",
      "--------------------------------------------------------------------------------\n",
      "Variable      Storage   Display    Value\n",
      "    name         type    format    label      Variable label\n",
      "--------------------------------------------------------------------------------\n",
      "unitid          long    %12.0g                \n",
      "loan_n          long    %8.0g                 \n",
      "loan_p          byte    %8.0g                 \n",
      "year            float   %9.0g                 \n",
      "iclevel         byte    %8.0g                 \n",
      "control         byte    %8.0g                 \n",
      "top30private    float   %9.0g                 \n",
      "top30publice    float   %9.0g                 \n",
      "--------------------------------------------------------------------------------\n",
      "Sorted by: unitid  year\n"
     ]
    }
   ],
   "source": [
    "save d1_1bankers, replace\n",
    "\n",
    "outsheet using d1_1bankers.csv, replace \n",
    "\n",
    "describe, size"
   ]
  },
  {
   "cell_type": "code",
   "execution_count": null,
   "id": "41390689-cd5f-466e-9f33-b2a9e8bae2c9",
   "metadata": {},
   "outputs": [],
   "source": []
  }
 ],
 "metadata": {
  "kernelspec": {
   "display_name": "Stata",
   "language": "stata",
   "name": "stata"
  },
  "language_info": {
   "codemirror_mode": "stata",
   "file_extension": ".do",
   "mimetype": "text/x-stata",
   "name": "stata",
   "version": "15.1"
  }
 },
 "nbformat": 4,
 "nbformat_minor": 5
}

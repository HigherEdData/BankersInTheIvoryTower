{
 "cells": [
  {
   "cell_type": "code",
   "execution_count": 22,
   "metadata": {},
   "outputs": [
    {
     "name": "stdout",
     "output_type": "stream",
     "text": [
      "\n",
      "    Variable |        Obs        Mean    Std. Dev.       Min        Max\n",
      "-------------+---------------------------------------------------------\n",
      "       total |        737    244.7424    200.7094    .000103   1644.773\n"
     ]
    }
   ],
   "source": [
    "sum total"
   ]
  },
  {
   "cell_type": "code",
   "execution_count": 1,
   "metadata": {},
   "outputs": [],
   "source": [
    "%set graph_format svg"
   ]
  },
  {
   "cell_type": "code",
   "execution_count": 2,
   "metadata": {},
   "outputs": [
    {
     "name": "stdout",
     "output_type": "stream",
     "text": [
      "\n",
      "\n",
      "/Users/Charlie/Dropbox/Bankers in the Ivory Tower Book/2 Our New Financial Oliga\n",
      "> rchy/Data/Boards 2000 to 2017\n",
      "\n",
      "\n",
      "\n",
      "\n",
      "\n",
      "\n",
      "(561 real changes made)\n",
      "\n",
      "(172 missing values generated)\n"
     ]
    }
   ],
   "source": [
    "clear all\n",
    "cd \"/Users/Charlie/Dropbox/Bankers in the Ivory Tower Book/2 Our New Financial Oligarchy/Data/Boards 2000 to 2017\"\n",
    "\n",
    "use board_endow_donation_directory_20181221, clear\n",
    "quietly drop if top30private!=1 & top30public!=1\n",
    "quietly drop if pctnonfinance==.\n",
    "quietly drop if year>1999 & year<2003\n",
    "quietly replace pctfinall=pctfinall*100\n",
    "replace alt_invest_p = alt_invest_p*100\n",
    "gen logdonation=log(total*1000000000)"
   ]
  },
  {
   "cell_type": "code",
   "execution_count": 32,
   "metadata": {},
   "outputs": [
    {
     "name": "stdout",
     "output_type": "stream",
     "text": [
      "\n",
      "       panel variable:  unitid (unbalanced)\n",
      "        time variable:  year, 1989 to 2017, but with gaps\n",
      "                delta:  1 unit\n",
      "\n",
      "\n",
      "Fixed-effects (within) regression               Number of obs     =        415\n",
      "Group variable: unitid                          Number of groups  =         60\n",
      "\n",
      "R-sq:                                           Obs per group:\n",
      "     within  = 0.2224                                         min =          2\n",
      "     between = 0.0039                                         avg =        6.9\n",
      "     overall = 0.0000                                         max =          9\n",
      "\n",
      "                                                F(3,59)           =      15.01\n",
      "corr(u_i, Xb)  = -0.9985                        Prob > F          =     0.0000\n",
      "\n",
      "                                 (Std. Err. adjusted for 60 clusters in unitid)\n",
      "-------------------------------------------------------------------------------\n",
      "              |               Robust\n",
      "   F2.rrr_ret |      Coef.   Std. Err.      t    P>|t|     [95% Conf. Interval]\n",
      "--------------+----------------------------------------------------------------\n",
      " alt_invest_p |   .0011175   .0005134     2.18   0.034     .0000901    .0021449\n",
      "   acceptrate |  -.0000502   .0014137    -0.04   0.972    -.0028791    .0027786\n",
      "endow_asset~g |  -.3541295    .059559    -5.95   0.000    -.4733069   -.2349521\n",
      "        _cons |   7.776594   1.310391     5.93   0.000     5.154507    10.39868\n",
      "--------------+----------------------------------------------------------------\n",
      "      sigma_u |  1.0258771\n",
      "      sigma_e |  .11459641\n",
      "          rho |   .9876756   (fraction of variance due to u_i)\n",
      "-------------------------------------------------------------------------------\n"
     ]
    }
   ],
   "source": [
    "xtset unitid year\n",
    "xtreg f2.rrr_ret alt_invest_p acceptrate ///\n",
    " endow_assets_c_log, fe ro"
   ]
  },
  {
   "cell_type": "code",
   "execution_count": 25,
   "metadata": {},
   "outputs": [
    {
     "name": "stdout",
     "output_type": "stream",
     "text": [
      "\n",
      "       panel variable:  unitid (unbalanced)\n",
      "        time variable:  year, 1989 to 2017, but with gaps\n",
      "                delta:  1 unit\n",
      "\n",
      "\n",
      "Fixed-effects (within) regression               Number of obs     =        456\n",
      "Group variable: unitid                          Number of groups  =         60\n",
      "\n",
      "R-sq:                                           Obs per group:\n",
      "     within  = 0.2825                                         min =          3\n",
      "     between = 0.1564                                         avg =        7.6\n",
      "     overall = 0.0993                                         max =          9\n",
      "\n",
      "                                                F(4,59)           =      20.30\n",
      "corr(u_i, Xb)  = -0.9122                        Prob > F          =     0.0000\n",
      "\n",
      "                                 (Std. Err. adjusted for 60 clusters in unitid)\n",
      "-------------------------------------------------------------------------------\n",
      "F2.           |               Robust\n",
      " alt_invest_p |      Coef.   Std. Err.      t    P>|t|     [95% Conf. Interval]\n",
      "--------------+----------------------------------------------------------------\n",
      "       pctalt |    .457172   .2239752     2.04   0.046     .0089986    .9053454\n",
      "   acceptrate |  -.7538192   .1477325    -5.10   0.000    -1.049431   -.4582072\n",
      "logtotal03_~e |   .8108019   1.214299     0.67   0.507    -1.619004    3.240608\n",
      "endow_asset~g |   9.983653    3.33897     2.99   0.004      3.30239    16.66492\n",
      "        _cons |  -159.1658   68.14098    -2.34   0.023    -295.5156   -22.81602\n",
      "--------------+----------------------------------------------------------------\n",
      "      sigma_u |  35.283457\n",
      "      sigma_e |  8.1083411\n",
      "          rho |  .94983839   (fraction of variance due to u_i)\n",
      "-------------------------------------------------------------------------------\n"
     ]
    }
   ],
   "source": [
    "xtset unitid year\n",
    "xtreg f2.alt_invest_p pctalt acceptrate ///\n",
    "logtotal03_revenue endow_assets_c_log , fe ro"
   ]
  },
  {
   "cell_type": "code",
   "execution_count": 36,
   "metadata": {},
   "outputs": [
    {
     "name": "stdout",
     "output_type": "stream",
     "text": [
      "\n",
      "       panel variable:  unitid (unbalanced)\n",
      "        time variable:  year, 1989 to 2017, but with gaps\n",
      "                delta:  1 unit\n",
      "\n",
      "\n",
      "Fixed-effects (within) regression               Number of obs     =        606\n",
      "Group variable: unitid                          Number of groups  =         59\n",
      "\n",
      "R-sq:                                           Obs per group:\n",
      "     within  = 0.0194                                         min =          1\n",
      "     between = 0.0785                                         avg =       10.3\n",
      "     overall = 0.0001                                         max =         12\n",
      "\n",
      "                                                F(4,58)           =      10.99\n",
      "corr(u_i, Xb)  = -0.3629                        Prob > F          =     0.0000\n",
      "\n",
      "                                 (Std. Err. adjusted for 59 clusters in unitid)\n",
      "-------------------------------------------------------------------------------\n",
      "F2.           |               Robust\n",
      "  logdonation |      Coef.   Std. Err.      t    P>|t|     [95% Conf. Interval]\n",
      "--------------+----------------------------------------------------------------\n",
      "       pctalt |   .0123949   .0062391     1.99   0.052     -.000094    .0248837\n",
      "   acceptrate |  -.0002766   .0094666    -0.03   0.977     -.019226    .0186729\n",
      "logtotal03_~e |   .3407861   .1467886     2.32   0.024     .0469567    .6346154\n",
      "endow_asset~g |  -.5060986   .3192164    -1.59   0.118     -1.14508    .1328825\n",
      "        _cons |   29.30433   5.951318     4.92   0.000     17.39147    41.21719\n",
      "--------------+----------------------------------------------------------------\n",
      "      sigma_u |  4.2918295\n",
      "      sigma_e |   1.007153\n",
      "          rho |  .94780545   (fraction of variance due to u_i)\n",
      "-------------------------------------------------------------------------------\n"
     ]
    }
   ],
   "source": [
    "xtset unitid year\n",
    "xtreg f2.logdonation pctalt acceptrate ///\n",
    "logtotal03_revenue endow_assets_c_log, fe ro"
   ]
  },
  {
   "cell_type": "code",
   "execution_count": 19,
   "metadata": {},
   "outputs": [
    {
     "name": "stdout",
     "output_type": "stream",
     "text": [
      "\n",
      "    Variable |        Obs        Mean    Std. Dev.       Min        Max\n",
      "-------------+---------------------------------------------------------\n",
      "       total |        737    244.7424    200.7094    .000103   1644.773\n"
     ]
    }
   ],
   "source": []
  },
  {
   "cell_type": "code",
   "execution_count": 8,
   "metadata": {},
   "outputs": [
    {
     "name": "stdout",
     "output_type": "stream",
     "text": [
      "\n",
      "    Variable |        Obs        Mean    Std. Dev.       Min        Max\n",
      "-------------+---------------------------------------------------------\n",
      "      pctalt |        909     7.35384    8.258286          0   39.28571\n"
     ]
    }
   ],
   "source": [
    "sum pctalt"
   ]
  },
  {
   "cell_type": "code",
   "execution_count": 42,
   "metadata": {},
   "outputs": [
    {
     "name": "stdout",
     "output_type": "stream",
     "text": [
      "unitid        altofficer    enrolled      total03_ex~s  allfirst\n",
      "year          altofficerw   acceptrate    instructi~07  represent~tu\n",
      "boardhead     pcttotalm     enrolrate     instructi~06  allunder\n",
      "hedgechair    pctwtotalm    act25th       instructi~05  allunderrace\n",
      "venturechair  pctofftotalm  act75th       instructi~04  representedu\n",
      "pechair       pctoffwtot~m  sat25thread   instructi~03  pctunderrep\n",
      "ibchair       pctfinall     sat25thmath   instructi~02  pctunderfi~t\n",
      "nonfinanc~ir  pctwfinall    sat25th       instructi~01  inst_name_~w\n",
      "otherfina~ir  pctofffinall  sat75thread   instructio~b  r2019\n",
      "hedge         pctoffwfin~l  sat75thmath   unitName      r2018\n",
      "hedgew        pctventurepe  sat75th       total         r2017\n",
      "hedgeofficer  pctwventu~pe  nonmissing    upper_inst    r2016\n",
      "hedgeoffic~w  pctoffven~pe  instnm        cash          r2015\n",
      "venture       pctoffwve~pe  fips          all_under     r2014\n",
      "venturew      pctalt        iclevel       name          r2013\n",
      "ventureoff~r  pctwalt       control       ipeds_inst~e  r2012\n",
      "ventureoff~w  pctoffalt     _merge        endow_assets  r2011\n",
      "pe            pctoffwalt    fgrnt_p       rrr_ret       r2010\n",
      "pew           pcthedge      ftfirsteft~t  all_giving~t  r2009\n",
      "peofficer     pctwhedge     ptfirsteft~t  endow_giv_~e  r2008\n",
      "peofficerw    pctoffhedge   ptundereft~t  parentshare   r2007\n",
      "nonfinance    pctoffwhedge  ftundereft~t  alumshare     r2006\n",
      "nonfinancew   pctventure    ftfirstefa~t  richindshare  r2005\n",
      "nonfinanc~er  pctwventure   ptfirstefa~t  giv_over_e~w  r2004\n",
      "nonfinanc~rw  pctoffven~re  ptunderefa~t  alt_invest_p  r2003\n",
      "otherfinance  pctoffwve~re  ftunderefa~t  pctile        r2002\n",
      "otherfina~ew  pctpe         ftfirstefb~t  pctile2       r2001\n",
      "otherfina~er  pctwpe        ptfirstefb~t  pctile3       r2000\n",
      "otherfina~rw  pctoffpe      ptunderefb~t  pctile4       TotalCount\n",
      "finall        pctoffwpe     ftunderefb~t  elite         newsrank\n",
      "finallw       pctnonfina~e  ftfirstefh~t  largest_sh~e  newsrankim~e\n",
      "finalloffi~r  pctwnonfin~e  ptfirstefh~t  largest_no~e  missingalt\n",
      "finalloffi~w  pctoffnonf~e  ptunderefh~t  ivy           missingalt~d\n",
      "schoolname    pctoffwnon~e  ftunderefh~t  ivyplus       logfirst\n",
      "schooltype    pctotherfi~e  ftfirstefw~t  descr_years   logunder\n",
      "totalm        pctwotherf~e  ptfirstefw~t  alt_log       underthous~s\n",
      "totalmw       pctoffothe~e  ptunderefw~t  totalm_log    typeyear\n",
      "totalmoffi~r  pctoffwoth~e  ftunderefw~t  endow_asse~g  lowrank\n",
      "totalmoffi~w  women         ftfirstefu~t  totalmw_log   minschoolt~e\n",
      "venturepe     minyear       ptfirstefu~t  logtotal03~e  top30private\n",
      "venturepew    schooltype~m  ptunderefu~t  logfte_count  top30public\n",
      "venturepeo~r  jenkinsonly   ftunderefu~t  pcthisp       logdonation\n",
      "venturepeo~w  institutio~e  fte_count     pctblack\n",
      "alt           applicants    endowment02   unknownunder\n",
      "altw          admissions    total03_re~e  unknownfirst\n"
     ]
    }
   ],
   "source": [
    "ds"
   ]
  },
  {
   "cell_type": "code",
   "execution_count": null,
   "metadata": {},
   "outputs": [],
   "source": []
  }
 ],
 "metadata": {
  "kernelspec": {
   "display_name": "Stata",
   "language": "stata",
   "name": "stata"
  },
  "language_info": {
   "codemirror_mode": "stata",
   "file_extension": ".do",
   "mimetype": "text/x-stata",
   "name": "stata",
   "version": "15.1"
  }
 },
 "nbformat": 4,
 "nbformat_minor": 4
}

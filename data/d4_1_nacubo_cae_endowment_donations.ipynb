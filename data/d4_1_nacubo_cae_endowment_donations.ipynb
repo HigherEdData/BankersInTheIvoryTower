{
 "cells": [
  {
   "cell_type": "markdown",
   "id": "242d2f34-78b8-473c-9228-8ddff6276baa",
   "metadata": {},
   "source": [
    "# *Bankers in the Ivory Tower*\n",
    "\n",
    "### By Charlie Eaton\n",
    "\n",
    "### Create endowment data for Figure 4.1: Total endowment wealth by endowment wealth percentile"
   ]
  },
  {
   "cell_type": "code",
   "execution_count": 1,
   "id": "2ee85c3b-6150-4f7d-81a6-8b5d3a8f0aad",
   "metadata": {},
   "outputs": [],
   "source": [
    "use unitid total instnm endow_assets year pctile2 alternative all_under using ///\n",
    "\"/Users/Charlie/Google Drive/Lincoln Project/CAE/endow_donation_board_20180726\", clear"
   ]
  },
  {
   "cell_type": "code",
   "execution_count": 2,
   "id": "a5a6de62-0357-4df9-a2c5-5cf0ebac5dcc",
   "metadata": {},
   "outputs": [],
   "source": [
    "qui {\n",
    "    rename pctile2 pctile\n",
    "rename total donations\n",
    "\n",
    "replace endow_assets=.5564801e+09 if unitid==\t126614 & year==\t2000\n",
    "replace endow_assets=.6119465e+09 if unitid==\t126614 & year==\t2001\n",
    "replace endow_assets=.4913127e+09 if unitid==\t126614 & year==\t2002\n",
    "replace endow_assets=.5044784e+09 if unitid==\t126614 & year==\t2003\n",
    "replace endow_assets=.5956089e+09 if unitid==\t126614 & year==\t2004\n",
    "replace endow_assets=.6353202e+09 if unitid==\t126614 & year==\t2005\n",
    "replace endow_assets=.7027458e+09 if unitid==\t126614 & year==\t2006\n",
    "replace endow_assets=.8452131e+09 if unitid==\t126614 & year==\t2007\n",
    "replace endow_assets=.8034685e+09 if unitid==\t126614 & year==\t2008\n",
    "replace endow_assets=.6636512e+09 if unitid==\t126614 & year==\t2009\n",
    "replace endow_assets=.7279258e+09 if unitid==\t126614 & year==\t2010\n",
    "replace endow_assets=.8373318e+09 if unitid==\t126614 & year==\t2011\n",
    "replace endow_assets=.8059773e+09 if unitid==\t126614 & year==\t2012\n",
    "replace endow_assets=.9057307e+09 if unitid==\t126614 & year==\t2013\n",
    "replace endow_assets=1.078183e+09 if unitid==\t126614 & year==\t2014\n",
    "replace endow_assets=1.10354e+09 if unitid==126614 & year==\t2015\n",
    "replace endow_assets=1.062664e+09 if unitid==\t126614 & year==\t2016\n",
    "\n",
    "replace endow_assets=1.40e+09 if unitid==\t214777 & year==2000\n",
    "replace endow_assets=1.34e+09 if unitid==\t214777 & year==\t2001\n",
    "replace endow_assets=1.26e+09 if unitid==\t214777\t& year==2002\n",
    "replace endow_assets=1.26e+09 if unitid==\t214777\t& year==2003\n",
    "replace endow_assets=1.41e+09 if unitid==\t214777\t& year==2004\n",
    "replace endow_assets=1.51e+09 if unitid==\t214777\t& year==2005\n",
    "replace endow_assets=1.65e+09 if unitid==\t214777\t& year==2006\n",
    "replace endow_assets=1.93e+09 if unitid==\t214777\t& year==2007\n",
    "replace endow_assets=1.80e+09 if unitid==\t214777\t& year==2008\n",
    "replace endow_assets=1.43e+09 if unitid==\t214777\t& year==2009\n",
    "replace endow_assets=1.58e+09 if unitid==\t214777\t& year==2010\n",
    "replace endow_assets=1.95e+09 if unitid==\t214777\t& year==2011\n",
    "replace endow_assets=1.94e+09 if unitid==\t214777\t& year==2012\n",
    "replace endow_assets=3.12e+09 if unitid==\t214777\t& year==2013\n",
    "replace endow_assets=3.59e+09 if unitid==\t214777\t& year==2014\n",
    "replace endow_assets=3.79e+09 if unitid==\t214777\t& year==2015\n",
    "replace endow_assets=3.74e+09 if unitid==\t214777\t& year==2016\n",
    "    replace endow_assets=endow_assets/1000000000 if unitid==126614 & year>1999\n",
    "replace endow_assets=endow_assets/1000000000 if unitid==214777 & year>1999\n",
    "\n",
    "    \n",
    "*replace endow_assets_c_log=log(endow_assets) if unitid==214777 | unitid==126614\n",
    "}"
   ]
  },
  {
   "cell_type": "code",
   "execution_count": 3,
   "id": "3e7d9bb5-7670-4d2d-8797-aa235b0ae081",
   "metadata": {},
   "outputs": [
    {
     "name": "stdout",
     "output_type": "stream",
     "text": [
      "\n",
      "(file d4_1_nacubo_cae_endow_donations_time.dta not found)\n",
      "file d4_1_nacubo_cae_endow_donations_time.dta saved\n",
      "\n",
      "(file d4_1_nacubo_cae_endow_donations_time.csv not found)\n"
     ]
    }
   ],
   "source": [
    "save d4_1_nacubo_cae_endow_donations_time, replace\n",
    "outsheet using d4_1_nacubo_cae_endow_donations_time.csv, replace comma"
   ]
  }
 ],
 "metadata": {
  "kernelspec": {
   "display_name": "Stata",
   "language": "stata",
   "name": "stata"
  },
  "language_info": {
   "codemirror_mode": "stata",
   "file_extension": ".do",
   "mimetype": "text/x-stata",
   "name": "stata",
   "version": "15.1"
  }
 },
 "nbformat": 4,
 "nbformat_minor": 5
}

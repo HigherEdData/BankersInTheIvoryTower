{
 "cells": [
  {
   "cell_type": "markdown",
   "id": "833b361a-07d6-471e-b56a-a73d22856803",
   "metadata": {},
   "source": [
    "# *Bankers in the Ivory Tower*\n",
    "\n",
    "### By Charlie Eaton\n",
    "\n",
    "### Create person level board data for Figure 2.2: Mean percentage of board members from finance"
   ]
  },
  {
   "cell_type": "code",
   "execution_count": 2,
   "id": "5da3df66-abe2-43ea-9869-e6872335de28",
   "metadata": {},
   "outputs": [
    {
     "name": "stdout",
     "output_type": "stream",
     "text": [
      "\n",
      "\n",
      "(32,901 observations deleted)\n",
      "\n",
      "file /Users/Charlie/Dropbox/Bankers in the Ivory Tower Book/2 Our New\n",
      "    Financial Oligarchy/Data/Boards 2000 to 2017/board_long_1989_20220214.dta\n",
      "    saved\n"
     ]
    }
   ],
   "source": [
    "use firstname lastname middlename suffix schoolname financetype organization unitid alumni gender year using ///\n",
    "\"/Users/Charlie/Dropbox/Bankers in the Ivory Tower Book/2 Our New Financial Oligarchy/Data/Boards 2000 to 2017/board_members_all_long20220111.dta\", clear\n",
    "keep if year==1989\n",
    "save \"/Users/Charlie/Dropbox/Bankers in the Ivory Tower Book/2 Our New Financial Oligarchy/Data/Boards 2000 to 2017/board_long_1989_20220214\", replace"
   ]
  },
  {
   "cell_type": "code",
   "execution_count": 3,
   "id": "1c61e780-1347-422a-a180-d01f1715bd67",
   "metadata": {},
   "outputs": [],
   "source": [
    "use firstname lastname middlename suffix schoolname firmname_new employer_type_aggregated financetype organization unitid year alumni gender using ///\n",
    "\"/Users/Charlie/Dropbox/Bankers in the Ivory Tower Book/2 Our New Financial Oligarchy/Data/Boards 2000 to 2017/AJS revisions Albina/Network analysis/board_members_all_long20220123\", clear"
   ]
  },
  {
   "cell_type": "code",
   "execution_count": 4,
   "id": "2c93e710-e987-44cf-b525-6e4f5b7ddc38",
   "metadata": {},
   "outputs": [
    {
     "name": "stdout",
     "output_type": "stream",
     "text": [
      "(variable firstname was str16, now str19 to accommodate using data's values)\n",
      "(variable gender was str1, now str7 to accommodate using data's values)\n",
      "(variable middlename was str13, now str15 to accommodate using data's values)\n"
     ]
    }
   ],
   "source": [
    "append using \"/Users/Charlie/Dropbox/Bankers in the Ivory Tower Book/2 Our New Financial Oligarchy/Data/Boards 2000 to 2017/board_long_1989_20220214\""
   ]
  },
  {
   "cell_type": "code",
   "execution_count": 5,
   "id": "04e76ee6-ff62-44f2-a9bb-3385a82217c0",
   "metadata": {},
   "outputs": [
    {
     "name": "stdout",
     "output_type": "stream",
     "text": [
      "(8,413 real changes made)\n"
     ]
    }
   ],
   "source": [
    "replace organization=firmname_new if firmname_new~=\"\""
   ]
  },
  {
   "cell_type": "code",
   "execution_count": 6,
   "id": "0e78109f-b701-42cf-bfd0-7796a50dfecd",
   "metadata": {},
   "outputs": [],
   "source": [
    "rename firmname_new econ_affiliation\n",
    "rename employer_type_aggregated econ_type\n",
    "drop organization"
   ]
  },
  {
   "cell_type": "code",
   "execution_count": 7,
   "id": "4c236bae-e4b5-4f45-8328-695b8226dd50",
   "metadata": {},
   "outputs": [
    {
     "name": "stdout",
     "output_type": "stream",
     "text": [
      "\n",
      "(12,112 real changes made)\n",
      "\n",
      "(16,795 real changes made)\n",
      "\n",
      "\n",
      "           financetype |      Freq.     Percent        Cum.\n",
      "-----------------------+-----------------------------------\n",
      "      asset management |        978        3.20        3.20\n",
      "    commercial banking |        765        2.50        5.71\n",
      "    financial planning |        133        0.44        6.14\n",
      "           hedge funds |        551        1.80        7.94\n",
      "             insurance |        155        0.51        8.45\n",
      "    investment banking |      1,554        5.09       13.54\n",
      "         non-financial |     18,121       59.32       72.86\n",
      "non-financial business |      4,593       15.03       87.89\n",
      "                 other |         59        0.19       88.08\n",
      "         other finance |        670        2.19       90.28\n",
      "        private equity |      1,764        5.77       96.05\n",
      "           real estate |        225        0.74       96.79\n",
      "       venture capital |        981        3.21      100.00\n",
      "-----------------------+-----------------------------------\n",
      "                 Total |     30,549      100.00\n"
     ]
    }
   ],
   "source": [
    "replace financetype=lower(financetype)\n",
    "replace financetype=\"non-financial\" if financetype==\"\"\n",
    "tab financetype"
   ]
  },
  {
   "cell_type": "code",
   "execution_count": 8,
   "id": "f9fb7dd2-59b1-4649-840b-9873ea5bbbc2",
   "metadata": {},
   "outputs": [
    {
     "name": "stdout",
     "output_type": "stream",
     "text": [
      "(4,593 real changes made)\n"
     ]
    }
   ],
   "source": [
    "replace financetype=\"non-financial\" if regexm(financetype, \"non-financial\")==1"
   ]
  },
  {
   "cell_type": "code",
   "execution_count": 9,
   "id": "88c298f8-349f-40bb-af6e-a30cc0ac0613",
   "metadata": {},
   "outputs": [],
   "source": [
    "qui {\n",
    "    gen top30private=.\n",
    "replace top30private=1 if unitid== \t110404\n",
    "replace top30private=1 if unitid== \t123961\n",
    "replace top30private=1 if unitid== \t130794\n",
    "replace top30private=1 if unitid== \t131496\n",
    "replace top30private=1 if unitid== \t139658\n",
    "replace top30private=1 if unitid== \t144050\n",
    "replace top30private=1 if unitid== \t147767\n",
    "replace top30private=1 if unitid== \t152080\n",
    "replace top30private=1 if unitid== \t162928\n",
    "replace top30private=1 if unitid== \t164988\n",
    "replace top30private=1 if unitid== \t165015\n",
    "replace top30private=1 if unitid== \t166027\n",
    "replace top30private=1 if unitid== \t166683\n",
    "replace top30private=1 if unitid== \t167358\n",
    "replace top30private=1 if unitid== \t168148\n",
    "replace top30private=1 if unitid== \t179867\n",
    "replace top30private=1 if unitid== \t182670\n",
    "replace top30private=1 if unitid== \t186131\n",
    "replace top30private=1 if unitid== \t190150\n",
    "replace top30private=1 if unitid== \t190415\n",
    "replace top30private=1 if unitid== \t193900\n",
    "replace top30private=1 if unitid== \t195030\n",
    "replace top30private=1 if unitid== \t198419\n",
    "replace top30private=1 if unitid== \t201645\n",
    "replace top30private=1 if unitid== \t211440\n",
    "replace top30private=1 if unitid== \t215062\n",
    "replace top30private=1 if unitid== \t217156\n",
    "replace top30private=1 if unitid== \t221999\n",
    "replace top30private=1 if unitid== \t227757\n",
    "replace top30private=1 if unitid== \t243744\n",
    "    \n",
    "gen top30public=.\n",
    "replace top30public=1 if unitid== \t104179\n",
    "replace top30public=1 if unitid== \t110635\n",
    "replace top30public=1 if unitid== \t126614\n",
    "replace top30public=1 if unitid== \t130943\n",
    "replace top30public=1 if unitid== \t134097\n",
    "replace top30public=1 if unitid== \t134130\n",
    "replace top30public=1 if unitid== \t137351\n",
    "replace top30public=1 if unitid== \t139959\n",
    "replace top30public=1 if unitid== \t141574\n",
    "replace top30public=1 if unitid== \t145637\n",
    "replace top30public=1 if unitid== \t151351\n",
    "replace top30public=1 if unitid== \t153658\n",
    "replace top30public=1 if unitid== \t163286\n",
    "replace top30public=1 if unitid== \t166629\n",
    "replace top30public=1 if unitid== \t170976\n",
    "replace top30public=1 if unitid== \t171100\n",
    "replace top30public=1 if unitid== \t174066\n",
    "replace top30public=1 if unitid== \t186380\n",
    "replace top30public=1 if unitid== \t196097\n",
    "replace top30public=1 if unitid== \t199120\n",
    "replace top30public=1 if unitid== \t201885\n",
    "replace top30public=1 if unitid== \t204796\n",
    "replace top30public=1 if unitid== \t214777\n",
    "replace top30public=1 if unitid== \t228723\n",
    "replace top30public=1 if unitid== \t228778\n",
    "replace top30public=1 if unitid== \t230764\n",
    "replace top30public=1 if unitid== \t234076\n",
    "replace top30public=1 if unitid== \t236948\n",
    "replace top30public=1 if unitid== \t240444\n",
    "replace top30public=1 if unitid== \t243780\n",
    "}"
   ]
  },
  {
   "cell_type": "code",
   "execution_count": 10,
   "id": "67fd3994-7589-4043-be1b-72567abbb472",
   "metadata": {},
   "outputs": [],
   "source": [
    "label var unitid \"IPEDS school unique identifier\"\n",
    "label var year \"year of board membership\"\n",
    "label var schoolname \"school of board membership\"\n",
    "label var firstname \"first name of board member\"\n",
    "label var middlename \"middle name or initial board member\"\n",
    "label var firstname \"last name of board member\"\n",
    "label var suffix \"suffix of board member\"\n",
    "label var gender \"gender of board member\"\n",
    "label var alumni \"board member is alumnus of board's school\"\n",
    "label var econ_affiliation \"primary economic affiliation of board member\"\n",
    "label var econ_typ \"type of primary economic affiliation\"\n",
    "label var financetype \"detailed type of finance affiliation\"\n",
    "label var top30public \"school of board membership is top 30 public indicator\"\n",
    "label var top30private \"school of board membership is top 30 private indicator\""
   ]
  },
  {
   "cell_type": "code",
   "execution_count": 11,
   "id": "57ecd517-1e97-4e27-8e34-bc4b42a7b2fe",
   "metadata": {},
   "outputs": [
    {
     "name": "stdout",
     "output_type": "stream",
     "text": [
      "(3,862 observations deleted)\n"
     ]
    }
   ],
   "source": [
    "keep if top30public==1 | top30private==1"
   ]
  },
  {
   "cell_type": "code",
   "execution_count": 12,
   "id": "1ecf973e-ede3-4c22-b625-9562d0047875",
   "metadata": {},
   "outputs": [
    {
     "name": "stdout",
     "output_type": "stream",
     "text": [
      "file d2_1_top_30_boards_person_level_1987_2017.dta saved\n"
     ]
    }
   ],
   "source": [
    "save d2_2_top_30_boards_person_level_1987_2017, replace"
   ]
  },
  {
   "cell_type": "code",
   "execution_count": 13,
   "id": "2bcdcad0-c168-41ec-9da3-c93db290dd41",
   "metadata": {},
   "outputs": [
    {
     "name": "stdout",
     "output_type": "stream",
     "text": [
      "(file d2_1_top_30_boards_person_level_1987_2017.csv not found)\n"
     ]
    }
   ],
   "source": [
    "outsheet using d2_2_top_30_boards_person_level_1987_2017.csv, comma replace"
   ]
  },
  {
   "cell_type": "code",
   "execution_count": null,
   "id": "11005000-5392-4323-bb90-bb9b6aa126d5",
   "metadata": {},
   "outputs": [],
   "source": []
  }
 ],
 "metadata": {
  "kernelspec": {
   "display_name": "Stata",
   "language": "stata",
   "name": "stata"
  },
  "language_info": {
   "codemirror_mode": "stata",
   "file_extension": ".do",
   "mimetype": "text/x-stata",
   "name": "stata",
   "version": "15.1"
  }
 },
 "nbformat": 4,
 "nbformat_minor": 5
}

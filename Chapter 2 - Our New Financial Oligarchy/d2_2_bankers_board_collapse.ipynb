{
 "cells": [
  {
   "cell_type": "markdown",
   "id": "42629dd8-ddc5-4d92-ab3f-bcf4419b4792",
   "metadata": {},
   "source": [
    "# *Bankers in the Ivory Tower*\n",
    "\n",
    "### By Charlie Eaton\n",
    "\n",
    "### Collapse original person level data to board level for Figure 2.2: Mean percentage of board members from finance"
   ]
  },
  {
   "cell_type": "code",
   "execution_count": 1,
   "id": "5bf7daa4-10ac-421e-8216-0103e813ed4d",
   "metadata": {},
   "outputs": [],
   "source": [
    "use data/top_30_boards_person_level_1987_2017, clear"
   ]
  },
  {
   "cell_type": "code",
   "execution_count": 2,
   "id": "bed14ebb-c050-4092-9e41-d59f31af04d7",
   "metadata": {},
   "outputs": [
    {
     "name": "stdout",
     "output_type": "stream",
     "text": [
      "\n",
      "Contains data from data/top_30_boards_person_level_1987_2017.dta\n",
      " Observations:        26,687                  \n",
      "    Variables:            14                  14 Feb 2022 12:52\n",
      "--------------------------------------------------------------------------------\n",
      "Variable      Storage   Display    Value\n",
      "    name         type    format    label      Variable label\n",
      "--------------------------------------------------------------------------------\n",
      "unitid          double  %9.0g                 IPEDS school unique identifier\n",
      "firstname       str19   %19s                  last name of board member\n",
      "lastname        str61   %61s                  lastname\n",
      "year            double  %9.0g                 year of board membership\n",
      "schoolname      str43   %43s                  school of board membership\n",
      "suffix          str3    %9s                   suffix of board member\n",
      "gender          str7    %9s                   gender of board member\n",
      "financetype     str22   %-9s                  detailed type of finance\n",
      "                                                affiliation\n",
      "middlename      str15   %15s                  middle name or initial board\n",
      "                                                member\n",
      "alumni          double  %10.0g                board member is alumnus of board's\n",
      "                                                school\n",
      "econ_type       str26   %-9s                  type of primary economic\n",
      "                                                affiliation\n",
      "econ_affiliat~n str315  %-9s                  primary economic affiliation of\n",
      "                                                board member\n",
      "top30private    float   %9.0g                 school of board membership is top\n",
      "                                                30 private indicator\n",
      "top30public     float   %9.0g                 school of board membership is top\n",
      "                                                30 public indicator\n",
      "--------------------------------------------------------------------------------\n",
      "Sorted by: \n"
     ]
    }
   ],
   "source": [
    "describe"
   ]
  },
  {
   "cell_type": "code",
   "execution_count": 3,
   "id": "1f4cc06f-f754-4bca-9a86-2338dbb02b9b",
   "metadata": {},
   "outputs": [
    {
     "name": "stdout",
     "output_type": "stream",
     "text": [
      "\n",
      "\n",
      "      detailed type of |\n",
      "   finance affiliation |      Freq.     Percent        Cum.\n",
      "-----------------------+-----------------------------------\n",
      "      asset management |        911        3.41        3.41\n",
      "    commercial banking |        674        2.53        5.94\n",
      "    financial planning |        117        0.44        6.38\n",
      "           hedge funds |        514        1.93        8.30\n",
      "             insurance |        123        0.46        8.76\n",
      "    investment banking |      1,413        5.29       14.06\n",
      "         non-financial |     19,546       73.24       87.30\n",
      "                 other |         19        0.07       87.37\n",
      "         other finance |        588        2.20       89.58\n",
      "        private equity |      1,637        6.13       95.71\n",
      "           real estate |        212        0.79       96.50\n",
      "       venture capital |        933        3.50      100.00\n",
      "-----------------------+-----------------------------------\n",
      "                 Total |     26,687      100.00\n",
      "\n",
      "\n",
      "  type of primary economic |\n",
      "               affiliation |      Freq.     Percent        Cum.\n",
      "---------------------------+-----------------------------------\n",
      "       Alternative finance |      2,968       11.50       11.50\n",
      "                Arts/media |        521        2.02       13.52\n",
      "Education science medicine |      3,479       13.48       27.01\n",
      "    Non-financial business |     11,044       42.80       69.81\n",
      "  Non-profits/philanthropy |      1,494        5.79       75.60\n",
      "             Other finance |      3,846       14.91       90.51\n",
      "             Public sector |      1,363        5.28       95.79\n",
      "               Real estate |      1,086        4.21      100.00\n",
      "---------------------------+-----------------------------------\n",
      "                     Total |     25,801      100.00\n"
     ]
    }
   ],
   "source": [
    "tab financetype\n",
    "tab econ_type"
   ]
  },
  {
   "cell_type": "code",
   "execution_count": 4,
   "id": "78f6d95e-870e-4103-b4e2-2bb069296f09",
   "metadata": {},
   "outputs": [],
   "source": [
    "qui gen pehedge=financetype==\"private equity\" | financetype==\"venture capital\" | financetype==\"hedge funds\""
   ]
  },
  {
   "cell_type": "code",
   "execution_count": 5,
   "id": "f842d9cc-550e-45d7-ba3b-0f74f9eb8cb6",
   "metadata": {},
   "outputs": [],
   "source": [
    "qui gen otherfinance=financetype!=\"non-financial\" & financetype!=\"\" & pehedge!=1"
   ]
  },
  {
   "cell_type": "code",
   "execution_count": 6,
   "id": "f00e3401-f8a6-40e5-8114-d032c0da7651",
   "metadata": {},
   "outputs": [],
   "source": [
    "collapse (first) top30private top30public schoolname (mean) pehedge otherfinance, by(unitid year)"
   ]
  },
  {
   "cell_type": "code",
   "execution_count": 7,
   "id": "6ead3c96-e3fe-43c4-a064-aea344b0e587",
   "metadata": {},
   "outputs": [
    {
     "name": "stdout",
     "output_type": "stream",
     "text": [
      "\n",
      "\n",
      "\n",
      "\n",
      "\n",
      "\n",
      "\n",
      "Contains data\n",
      " Observations:           894                  \n",
      "    Variables:             7                  \n",
      "--------------------------------------------------------------------------------\n",
      "Variable      Storage   Display    Value\n",
      "    name         type    format    label      Variable label\n",
      "--------------------------------------------------------------------------------\n",
      "unitid          double  %9.0g                 IPEDS school unique identifier\n",
      "year            double  %9.0g                 year of board membership\n",
      "top30private    float   %9.0g                 school of board is top 30 private\n",
      "top30public     float   %9.0g                 school of board is top 30 public\n",
      "schoolname      str43   %43s                  school of board\n",
      "pehedge         float   %9.0g                 private equity / hedge fund\n",
      "                                                managers\n",
      "otherfinance    float   %9.0g                 other financiers\n",
      "--------------------------------------------------------------------------------\n",
      "Sorted by: unitid  year\n",
      "     Note: Dataset has changed since last saved.\n"
     ]
    }
   ],
   "source": [
    "label var pehedge \"private equity / hedge fund managers\"\n",
    "label var otherfinance \"other financiers\"\n",
    "label var schoolname \"school of board\"\n",
    "label var top30public \"school of board is top 30 public\"\n",
    "label var top30private \"school of board is top 30 private\"\n",
    "describe"
   ]
  },
  {
   "cell_type": "code",
   "execution_count": 8,
   "id": "3577c760-c82d-4981-b3b5-311152bc54ed",
   "metadata": {},
   "outputs": [
    {
     "name": "stdout",
     "output_type": "stream",
     "text": [
      "\n",
      "file data/boardlevel_finance_share_20220214.dta saved\n",
      "\n"
     ]
    }
   ],
   "source": [
    "save data/boardlevel_finance_share_20220214, replace\n",
    "\n",
    "outsheet using data/boardlevel_finance_share_20220214.csv, comma replace"
   ]
  },
  {
   "cell_type": "code",
   "execution_count": null,
   "id": "18320ab9-a7a5-4df5-b6cf-7cf857a43fb1",
   "metadata": {},
   "outputs": [],
   "source": []
  }
 ],
 "metadata": {
  "kernelspec": {
   "display_name": "Stata",
   "language": "stata",
   "name": "stata"
  },
  "language_info": {
   "codemirror_mode": "stata",
   "file_extension": ".do",
   "mimetype": "text/x-stata",
   "name": "stata",
   "version": "15.1"
  }
 },
 "nbformat": 4,
 "nbformat_minor": 5
}

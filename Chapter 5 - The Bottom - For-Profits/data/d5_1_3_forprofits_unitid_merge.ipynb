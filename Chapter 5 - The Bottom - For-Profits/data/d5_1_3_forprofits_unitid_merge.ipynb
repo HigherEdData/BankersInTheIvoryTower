{
 "cells": [
  {
   "cell_type": "markdown",
   "metadata": {},
   "source": [
    "## *Bankers in the Ivory Tower*\n",
    "### By Charlie Eaton\n",
    "\n",
    "### Make for-profit college data for Figures 5.1 and 5.3"
   ]
  },
  {
   "cell_type": "code",
   "execution_count": 1,
   "metadata": {},
   "outputs": [
    {
     "name": "stdout",
     "output_type": "stream",
     "text": [
      "\n",
      "\n",
      ". bysort unitid: egen state_mode=mode(state_n), maxmode\n",
      "Warning: at least one group contains all missing values or contains multiple\n",
      "modes.  Generating missing values for the mode of these groups.  Use the\n",
      "missing, maxmode, minmode, or nummode() options to control this behavior.\n",
      "(36,295 missing values generated)\n",
      "\n",
      ". replace state_n=state_mode if state_n==.\n",
      "(92,585 real changes made)\n",
      "\n",
      ". drop if year>2015\n",
      "(35,512 observations deleted)\n"
     ]
    }
   ],
   "source": [
    "quietly {\n",
    "use  \"/Users/Charlie/Google Drive/Lincoln Project/IPEDS Disaggregated/Data/IPEDS asymmetry prepped 20191229.dta\", clear\n",
    "\n",
    "merge 1:1 unitid year using \"/Users/Charlie/Dropbox/Private Equity ForProfit Colleges/Replication Code/Final Replication/d_UNITID_pe_in_higher_ed.dta\", ///\n",
    "keepusing(instnmlower commutingzoneid2000 law_enf_frst_this_yr law_enf_frst_this_yr all_under iclevel control pe_ind public) nogen\n",
    "replace control=3 if law_enf_frst_this_yr==1\n",
    "\n",
    "merge 1:1 unitid year using \"/Users/Charlie/Google Drive/Lincoln Project/IPEDS Disaggregated/Data/completions_by_degree1987_2016\"\n",
    "drop if systemid==454944\n",
    "\n",
    "merge 1:1 unitid year using \"/Users/Charlie/Dropbox/Private Equity ForProfit Colleges/Replication Code/Final Replication/d_UNITID_pe_in_higher_ed\", gen(merge_sales) ///\n",
    "keepusing(eaptot_sales eaptot_all eapft_sales eapft_all sanin01 sftetotl ///\n",
    "sanin11 hrtotlt_sales hrtotlt_all sftesale sftetotl) keep(1 3)\n",
    "\n",
    "gen fracsales2= sftesale /sftetotl\n",
    "\n",
    "bysort systemid year: egen rank=rank(unitid), unique\n",
    "bysort systemid year: egen system_enroll=total(all_under)\n",
    "\n",
    "bysort systemid year: egen system_under=total(all_under), missing\n",
    "replace tuitionall_c_w=tuitionall2_c_w\n",
    "drop if year>2016 | year<1990\n",
    "gen pe_po=0\n",
    "replace pe_po=1 if pe_ind==1 | public==1\n",
    "\n",
    "replace law_enf=1 if year==2012 & unitid==459888\n",
    "replace law_enf=1 if year==2012 & unitid==459897\n",
    "replace law_enf=1 if year==2012 & unitid==459903\n",
    "replace law_enf=1 if year==2012 & unitid==459912\n",
    "replace law_enf=1 if year==2012 & unitid==474890\n",
    "replace law_enf=1 if year==2014 & unitid==482477\n",
    "replace law_enf=1 if year==2016 & unitid==487302\n",
    "replace law_enf=1 if year==2015 & unitid==380401\n",
    "replace law_enf=. if year>2005 & unitid==105516\n",
    "replace law_enf=1 if year==2005 & unitid==105516\n",
    "replace law_enf=0 if unitid==105516\n",
    "drop if unitid==.\n",
    "drop if owner_pe==.\n",
    "gen owner_pe2=owner_pe\n",
    "replace owner_pe=4 if owner_pe>4\n",
    "merge 1:1 unitid year using \"/Users/Charlie/Google Drive/Lincoln Project/IPEDS Disaggregated/Data/fteenrollment1981_to_2019\", ///\n",
    "keepusing(fte_eftotlt fte_eftotlw fte_efbkaat fte_efhispt ftfirst* ptfirst* ftunder* ptunder*) gen(enrollmerge)\n",
    "merge 1:1 unitid year using \"/Users/Charlie/Google Drive/Lincoln Project/IPEDS Disaggregated/Data/icfinaidcharges\", keepusing(loan_t fgrnt_n fgrnt_p) gen(aidmerge)\n",
    "}\n",
    "bysort unitid: egen state_mode=mode(state_n), maxmode\n",
    "replace state_n=state_mode if state_n==.\n",
    "drop if year>2015"
   ]
  },
  {
   "cell_type": "code",
   "execution_count": 2,
   "metadata": {},
   "outputs": [
    {
     "name": "stdout",
     "output_type": "stream",
     "text": [
      "\n",
      "\n",
      "\n",
      "file d_bankers_for_profits.dta saved\n",
      "\n",
      "(file d_bankers_for_profits.csv not found)\n"
     ]
    }
   ],
   "source": [
    "foreach var in totlt bkaat hispt totlw {\n",
    "qui     egen under`var'=rowtotal(ptunderef`var' ftunderef`var'), missing\n",
    "}\n",
    "keep unitid year control iclevel under* fgrnt_n owner_pe total_enrollment ///\n",
    "loan_amount_ftfrosh_c_w selective white_share_w ///\n",
    "black_share_w hisp_share_w owner_pe loan_amount_ftfrosh_c_w ///\n",
    "pct2yrchrtgrbkaat pct2yrchrtgrhispt pct2yrchrtgrwhitt   ///\n",
    "state_n pell_grants_per_fte_c_w grad_rate_150_p2yr_w grad_rate_150_p4yr_w ///\n",
    "pct4yrchrtgrbkaat_w pct4yrchrtgrwhitt_w pct4yrchrtgrhispt_w ///\n",
    "dist_pell_s fte_count systemid law_enf_frst_this_yr\n",
    "save d_bankers_for_profits, replace\n",
    "outsheet using d_bankers_for_profits.csv, comma replace"
   ]
  },
  {
   "cell_type": "code",
   "execution_count": 3,
   "metadata": {},
   "outputs": [
    {
     "name": "stdout",
     "output_type": "stream",
     "text": [
      "\n",
      "\n",
      "\n",
      "\n",
      "(file OPEID_PE_in_Higher_Ed.dta not found)\n",
      "file OPEID_PE_in_Higher_Ed.dta saved\n"
     ]
    }
   ],
   "source": [
    "use \"/Users/Charlie/Dropbox/Asymmetry by Design/Data/d_OPEID_PE_in_Higher_Ed.dta\", clear\n",
    "keep owner_pe_c public selective stabbr systemid stabbr ///\n",
    "fte_count white_share_w black_share_w hisp_share_w pell_grants_per_fte_c_w iclevel ///\n",
    "opeid year systemid lo_inc_rpy_3yr_n md_inc_rpy_3yr_n hi_inc_rpy_3yr_n ///\n",
    "lo_inc_yr6_n overall_yr6_n rpy_3yr_rt_supp_w mn_earn_wne_p6_c_w\n",
    "\n",
    "outsheet using d_OPEID_PE_in_Higher_Ed.csv, comma replace\n",
    "save OPEID_PE_in_Higher_Ed, replace"
   ]
  },
  {
   "cell_type": "code",
   "execution_count": 6,
   "metadata": {},
   "outputs": [
    {
     "name": "stdout",
     "output_type": "stream",
     "text": [
      "\n",
      "\n",
      "file century_foundation_borrower_defense.dta saved\n",
      "\n",
      "(file century_foundation_borrower_defense.csv not found)\n"
     ]
    }
   ],
   "source": [
    "use \"/Users/Charlie/Dropbox/asymmetry by Design/Data/century_foundation_borrower_defense.dta\", clear\n",
    "save century_foundation_borrower_defense, replace\n",
    "outsheet using century_foundation_borrower_defense.csv, comma replace"
   ]
  },
  {
   "cell_type": "code",
   "execution_count": null,
   "metadata": {},
   "outputs": [],
   "source": []
  }
 ],
 "metadata": {
  "kernelspec": {
   "display_name": "Stata",
   "language": "stata",
   "name": "stata"
  },
  "language_info": {
   "codemirror_mode": "stata",
   "file_extension": ".do",
   "mimetype": "text/x-stata",
   "name": "stata",
   "version": "15.1"
  }
 },
 "nbformat": 4,
 "nbformat_minor": 4
}
